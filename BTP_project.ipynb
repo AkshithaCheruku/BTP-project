{
  "nbformat": 4,
  "nbformat_minor": 0,
  "metadata": {
    "colab": {
      "provenance": []
    },
    "kernelspec": {
      "name": "python3",
      "display_name": "Python 3"
    },
    "language_info": {
      "name": "python"
    }
  },
  "cells": [
    {
      "cell_type": "code",
      "execution_count": 1,
      "metadata": {
        "id": "XYh34fT7Drwy"
      },
      "outputs": [],
      "source": [
        "%matplotlib inline\n",
        "\n",
        "import ctypes\n",
        "import matplotlib\n",
        "import matplotlib.pyplot as plt\n",
        "import numpy as np\n",
        "import pandas as pd\n",
        "import sys\n",
        "\n",
        "import tensorflow as tf\n",
        "from tensorflow.keras import backend as K\n",
        "from tensorflow.keras.models import Model\n",
        "from tensorflow.keras.layers import Input, Activation, Dense, Flatten, Reshape, Conv1D, concatenate\n",
        "from tensorflow.keras.optimizers import Adam, RMSprop\n"
      ]
    },
    {
      "cell_type": "code",
      "source": [
        "m_bits = 16\n",
        "k_bits = 16\n",
        "signature = 16\n",
        "\n",
        "pad = 'same'"
      ],
      "metadata": {
        "id": "DmKuX6fMGNld"
      },
      "execution_count": null,
      "outputs": []
    },
    {
      "cell_type": "code",
      "source": [
        "a_message = Input(shape=(m_bits, ))\n",
        "a_signature = Input(shape=(k_bits, ))\n",
        "\n",
        "a_message_reshaped = Reshape((m_bits, 1))(a_message)\n",
        "a_signature_reshaped = Reshape((k_bits, 1))(a_signature)\n",
        "\n",
        "ainput = concatenate([a_message,a_signature],axis=1)\n",
        "\n",
        "adense = Dense(units = (m_bits+k_bits))(ainput)\n",
        "adense_act = Activation('tanh')(adense)\n",
        "\n",
        "areshape = Reshape((m_bits+k_bits,1, ))(adense_act)\n",
        "\n",
        "aconv1 = Conv1D(filters = 2, kernel_size = 4, strides = 1, padding=pad)(areshape)\n",
        "aconv1a = Activation('tanh')(aconv1)\n",
        "\n",
        "aconv2 = Conv1D(filters = 4, kernel_size = 2, strides = 2, padding=pad)(aconv1a)\n",
        "aconv2a = Activation('tanh')(aconv2)\n",
        "\n",
        "a_flat = Flatten()(aconv2a)\n",
        "\n",
        "adense1 = Dense(units = (signature))(a_flat)\n",
        "adense1_act = Activation('tanh')(adense1)\n",
        "\n",
        "aoutput = concatenate([a_message, adense1_act], axis = 1)\n",
        "\n",
        "alice = Model(inputs = [a_message, a_signature], outputs = [aoutput] , name='alice')\n",
        "alice.summary()"
      ],
      "metadata": {
        "colab": {
          "base_uri": "https://localhost:8080/"
        },
        "id": "leJKclxKGS8y",
        "outputId": "199b87a1-6e83-4dce-fe67-3133cfdecd33"
      },
      "execution_count": null,
      "outputs": [
        {
          "output_type": "stream",
          "name": "stdout",
          "text": [
            "Model: \"alice\"\n",
            "__________________________________________________________________________________________________\n",
            " Layer (type)                Output Shape                 Param #   Connected to                  \n",
            "==================================================================================================\n",
            " input_1 (InputLayer)        [(None, 16)]                 0         []                            \n",
            "                                                                                                  \n",
            " input_2 (InputLayer)        [(None, 16)]                 0         []                            \n",
            "                                                                                                  \n",
            " concatenate (Concatenate)   (None, 32)                   0         ['input_1[0][0]',             \n",
            "                                                                     'input_2[0][0]']             \n",
            "                                                                                                  \n",
            " dense (Dense)               (None, 32)                   1056      ['concatenate[0][0]']         \n",
            "                                                                                                  \n",
            " activation (Activation)     (None, 32)                   0         ['dense[0][0]']               \n",
            "                                                                                                  \n",
            " reshape_2 (Reshape)         (None, 32, 1)                0         ['activation[0][0]']          \n",
            "                                                                                                  \n",
            " conv1d (Conv1D)             (None, 32, 2)                10        ['reshape_2[0][0]']           \n",
            "                                                                                                  \n",
            " activation_1 (Activation)   (None, 32, 2)                0         ['conv1d[0][0]']              \n",
            "                                                                                                  \n",
            " conv1d_1 (Conv1D)           (None, 16, 4)                20        ['activation_1[0][0]']        \n",
            "                                                                                                  \n",
            " activation_2 (Activation)   (None, 16, 4)                0         ['conv1d_1[0][0]']            \n",
            "                                                                                                  \n",
            " flatten (Flatten)           (None, 64)                   0         ['activation_2[0][0]']        \n",
            "                                                                                                  \n",
            " dense_1 (Dense)             (None, 16)                   1040      ['flatten[0][0]']             \n",
            "                                                                                                  \n",
            " activation_3 (Activation)   (None, 16)                   0         ['dense_1[0][0]']             \n",
            "                                                                                                  \n",
            " concatenate_1 (Concatenate  (None, 32)                   0         ['input_1[0][0]',             \n",
            " )                                                                   'activation_3[0][0]']        \n",
            "                                                                                                  \n",
            "==================================================================================================\n",
            "Total params: 2126 (8.30 KB)\n",
            "Trainable params: 2126 (8.30 KB)\n",
            "Non-trainable params: 0 (0.00 Byte)\n",
            "__________________________________________________________________________________________________\n"
          ]
        }
      ]
    },
    {
      "cell_type": "code",
      "source": [
        "b_inp = Input(shape=(m_bits+signature, ))\n",
        "\n",
        "# binput = concatenate([b_inp, b_key], axis=1)\n",
        "\n",
        "bdense1 = Dense(units=(m_bits+signature))(b_inp)\n",
        "bdense1a = Activation('tanh')(bdense1)\n",
        "\n",
        "breshape = Reshape((m_bits+signature, 1,))(bdense1a)\n",
        "\n",
        "bconv1 = Conv1D(filters=2, kernel_size=4, strides=1, padding=pad)(breshape)\n",
        "bconv1a = Activation('tanh')(bconv1)\n",
        "\n",
        "bconv2 = Conv1D(filters=4, kernel_size=2, strides=2, padding=pad)(bconv1a)\n",
        "bconv2a = Activation('tanh')(bconv2)\n",
        "\n",
        "bconv3 = Conv1D(filters=4, kernel_size=1, strides=1, padding=pad)(bconv2a)\n",
        "bconv3a = Activation('tanh')(bconv3)\n",
        "\n",
        "b_flat = Flatten()(bconv3a)\n",
        "\n",
        "bdense2 = Dense(units=(m_bits+signature))(b_flat)\n",
        "bdense2_a = Activation('relu')(bdense2)\n",
        "\n",
        "bdense3 = Dense(units=(m_bits+signature)/2 )(bdense2_a)\n",
        "bdense3_a = Activation('relu')(bdense3)\n",
        "\n",
        "bdense4 = Dense(units = 1)(bdense3_a)\n",
        "bdense4_a = Activation('sigmoid')(bdense4)\n",
        "\n",
        "bob = Model(inputs = [b_inp], outputs = bdense4_a, name='bob')\n",
        "bob.summary()"
      ],
      "metadata": {
        "colab": {
          "base_uri": "https://localhost:8080/"
        },
        "id": "JUy7vzEnGVXJ",
        "outputId": "8275ed84-83e1-4991-d1ad-741358220ef5"
      },
      "execution_count": null,
      "outputs": [
        {
          "output_type": "stream",
          "name": "stdout",
          "text": [
            "Model: \"bob\"\n",
            "_________________________________________________________________\n",
            " Layer (type)                Output Shape              Param #   \n",
            "=================================================================\n",
            " input_3 (InputLayer)        [(None, 32)]              0         \n",
            "                                                                 \n",
            " dense_2 (Dense)             (None, 32)                1056      \n",
            "                                                                 \n",
            " activation_4 (Activation)   (None, 32)                0         \n",
            "                                                                 \n",
            " reshape_3 (Reshape)         (None, 32, 1)             0         \n",
            "                                                                 \n",
            " conv1d_2 (Conv1D)           (None, 32, 2)             10        \n",
            "                                                                 \n",
            " activation_5 (Activation)   (None, 32, 2)             0         \n",
            "                                                                 \n",
            " conv1d_3 (Conv1D)           (None, 16, 4)             20        \n",
            "                                                                 \n",
            " activation_6 (Activation)   (None, 16, 4)             0         \n",
            "                                                                 \n",
            " conv1d_4 (Conv1D)           (None, 16, 4)             20        \n",
            "                                                                 \n",
            " activation_7 (Activation)   (None, 16, 4)             0         \n",
            "                                                                 \n",
            " flatten_1 (Flatten)         (None, 64)                0         \n",
            "                                                                 \n",
            " dense_3 (Dense)             (None, 32)                2080      \n",
            "                                                                 \n",
            " activation_8 (Activation)   (None, 32)                0         \n",
            "                                                                 \n",
            " dense_4 (Dense)             (None, 16)                528       \n",
            "                                                                 \n",
            " activation_9 (Activation)   (None, 16)                0         \n",
            "                                                                 \n",
            " dense_5 (Dense)             (None, 1)                 17        \n",
            "                                                                 \n",
            " activation_10 (Activation)  (None, 1)                 0         \n",
            "                                                                 \n",
            "=================================================================\n",
            "Total params: 3731 (14.57 KB)\n",
            "Trainable params: 3731 (14.57 KB)\n",
            "Non-trainable params: 0 (0.00 Byte)\n",
            "_________________________________________________________________\n"
          ]
        }
      ]
    },
    {
      "cell_type": "code",
      "source": [
        "e_cipher = Input(shape=(m_bits+signature, ))\n",
        "\n",
        "edense1 = Dense(units = (m_bits+signature))(e_cipher)\n",
        "edense1a = Activation('tanh')(edense1)\n",
        "\n",
        "edense2 = Dense(units = (m_bits+signature))(edense1a)\n",
        "edense2a = Activation('tanh')(edense2)\n",
        "\n",
        "ereshape = Reshape((m_bits+signature,1, ))(edense2a)\n",
        "\n",
        "econv1 = Conv1D(filters=2, kernel_size=4, strides=1, padding=pad)(ereshape)\n",
        "econv1a = Activation('tanh')(econv1)\n",
        "\n",
        "econv2 = Conv1D(filters=4, kernel_size=2, strides=2, padding=pad)(econv1a)\n",
        "econv2a = Activation('tanh')(econv2)\n",
        "\n",
        "e_flat = Flatten()(econv2a)\n",
        "\n",
        "e_dense3 = Dense(units = (m_bits+signature))(e_flat)\n",
        "e_dense3a = Activation('tanh')(e_dense3)\n",
        "\n",
        "e_dense4 = Dense(units = (m_bits+signature))(e_dense3a)\n",
        "e_dense4a = Activation('tanh')(e_dense4)\n",
        "\n",
        "eve = Model(inputs = [e_cipher], outputs = e_dense4a, name = 'Eve')\n",
        "eve.summary()"
      ],
      "metadata": {
        "colab": {
          "base_uri": "https://localhost:8080/"
        },
        "id": "DsyDEGKjGVZ6",
        "outputId": "a919cd73-a559-4c00-8544-d6a1336d4d5c"
      },
      "execution_count": null,
      "outputs": [
        {
          "output_type": "stream",
          "name": "stdout",
          "text": [
            "Model: \"Eve\"\n",
            "_________________________________________________________________\n",
            " Layer (type)                Output Shape              Param #   \n",
            "=================================================================\n",
            " input_4 (InputLayer)        [(None, 32)]              0         \n",
            "                                                                 \n",
            " dense_6 (Dense)             (None, 32)                1056      \n",
            "                                                                 \n",
            " activation_11 (Activation)  (None, 32)                0         \n",
            "                                                                 \n",
            " dense_7 (Dense)             (None, 32)                1056      \n",
            "                                                                 \n",
            " activation_12 (Activation)  (None, 32)                0         \n",
            "                                                                 \n",
            " reshape_4 (Reshape)         (None, 32, 1)             0         \n",
            "                                                                 \n",
            " conv1d_5 (Conv1D)           (None, 32, 2)             10        \n",
            "                                                                 \n",
            " activation_13 (Activation)  (None, 32, 2)             0         \n",
            "                                                                 \n",
            " conv1d_6 (Conv1D)           (None, 16, 4)             20        \n",
            "                                                                 \n",
            " activation_14 (Activation)  (None, 16, 4)             0         \n",
            "                                                                 \n",
            " flatten_2 (Flatten)         (None, 64)                0         \n",
            "                                                                 \n",
            " dense_8 (Dense)             (None, 32)                2080      \n",
            "                                                                 \n",
            " activation_15 (Activation)  (None, 32)                0         \n",
            "                                                                 \n",
            " dense_9 (Dense)             (None, 32)                1056      \n",
            "                                                                 \n",
            " activation_16 (Activation)  (None, 32)                0         \n",
            "                                                                 \n",
            "=================================================================\n",
            "Total params: 5278 (20.62 KB)\n",
            "Trainable params: 5278 (20.62 KB)\n",
            "Non-trainable params: 0 (0.00 Byte)\n",
            "_________________________________________________________________\n"
          ]
        }
      ]
    },
    {
      "cell_type": "code",
      "source": [
        "# Connect Neural Networks\n",
        "aliceout =  alice( [a_message, a_signature] )\n",
        "bobout   =  bob( [aliceout] )\n",
        "\n",
        "eveout   =  eve( [aliceout] )\n",
        "bobout2  =  bob( [eveout] )\n",
        "\n",
        "\"\"\"Loss for Eve is just L1 distance between ainput0 and eoutput. The sum is taken over all the bits in the message. The quantity inside the K.mean() is per-example loss.\n",
        "We take the average across the entire mini-batch\"\"\"\n",
        "eveloss = K.log(1+bobout2) - 0.01*K.mean(K.sum(K.abs(aliceout - eveout), axis=-1))\n",
        "\n",
        "\"\"\"Loss for Alice-Bob communication depends on Bob's reconstruction, but also on Eve's ability to decrypt the message. Eve should do no better than random guessing,\n",
        "so on average she will guess half the bits right.\"\"\"\n",
        "# Loss function for alice-bob model\n",
        "abeloss =   K.log(1+bobout) + K.log(2-bobout2)\n",
        "\n",
        "# Backpropagation\n",
        "abeoptim = RMSprop(lr=0.001)\n",
        "eveoptim = RMSprop(lr=0.001)\n",
        "\n",
        "#Alice Bob Model\n",
        "abemodel = Model(inputs = [a_message, a_signature], outputs = [bobout, bobout2] , name = 'Alice_bob')\n",
        "abemodel.add_loss(abeloss)\n",
        "abemodel.compile(optimizer = abeoptim)\n",
        "\n",
        "# Alice-Eve Model with no change in weights on Alice\n",
        "evemodel = Model(inputs = [a_message, a_signature], outputs = [bobout2] , name='evemodel')\n",
        "evemodel.add_loss(eveloss)\n",
        "evemodel.compile(optimizer = eveoptim)\n"
      ],
      "metadata": {
        "colab": {
          "base_uri": "https://localhost:8080/"
        },
        "id": "II3Omp9XGVcx",
        "outputId": "ea7630f2-7572-4165-8327-94eec51eede6"
      },
      "execution_count": null,
      "outputs": [
        {
          "output_type": "stream",
          "name": "stderr",
          "text": [
            "WARNING:absl:`lr` is deprecated in Keras optimizer, please use `learning_rate` or use the legacy optimizer, e.g.,tf.keras.optimizers.legacy.RMSprop.\n",
            "WARNING:absl:`lr` is deprecated in Keras optimizer, please use `learning_rate` or use the legacy optimizer, e.g.,tf.keras.optimizers.legacy.RMSprop.\n"
          ]
        }
      ]
    },
    {
      "cell_type": "code",
      "source": [
        "batch_size = 2\n",
        "eve.trainable = False\n",
        "m_batch = np.random.randint(0, 2, m_bits * batch_size).reshape(batch_size, m_bits)\n",
        "k_batch = np.random.randint(0, 2, k_bits * batch_size).reshape(batch_size, k_bits)"
      ],
      "metadata": {
        "id": "D9E_kDlOG6ng"
      },
      "execution_count": null,
      "outputs": []
    },
    {
      "cell_type": "code",
      "source": [
        "batch_size = 32\n",
        "alice.trainable = True\n",
        "bob.trainable = True\n",
        "eve.trainable = False\n",
        "m_batch = np.random.randint(0, 2, m_bits * batch_size).reshape(batch_size, m_bits)\n",
        "k_batch = np.random.randint(0, 2, k_bits * batch_size).reshape(batch_size, k_bits)\n",
        "loss = abemodel.train_on_batch([m_batch, k_batch], None)\n",
        "loss"
      ],
      "metadata": {
        "id": "daEGf248HGuV",
        "colab": {
          "base_uri": "https://localhost:8080/"
        },
        "outputId": "829a7421-6bed-49f6-e387-049afebcac93"
      },
      "execution_count": null,
      "outputs": [
        {
          "output_type": "execute_result",
          "data": {
            "text/plain": [
              "0.8199781179428101"
            ]
          },
          "metadata": {},
          "execution_count": 9
        }
      ]
    },
    {
      "cell_type": "code",
      "source": [
        "alice.trainable = False\n",
        "bob.trainable = False\n",
        "eve.trainable = True\n",
        "for cycle in range(2):\n",
        "    m_batch = np.random.randint(0, 2, m_bits * batch_size).reshape(batch_size, m_bits)\n",
        "    k_batch = np.random.randint(0, 2, k_bits * batch_size).reshape(batch_size, k_bits)\n",
        "    loss = evemodel.train_on_batch([m_batch, k_batch], None)\n",
        "loss"
      ],
      "metadata": {
        "id": "f-yCejtdHJEf",
        "colab": {
          "base_uri": "https://localhost:8080/"
        },
        "outputId": "d838b9b4-29a3-4830-ddca-ab1c88422c80"
      },
      "execution_count": null,
      "outputs": [
        {
          "output_type": "execute_result",
          "data": {
            "text/plain": [
              "0.2557808756828308"
            ]
          },
          "metadata": {},
          "execution_count": 10
        }
      ]
    },
    {
      "cell_type": "code",
      "source": [
        "abelosses = []\n",
        "evelosses = []\n",
        "\n",
        "# 1 epoch trains on the entire dataset\n",
        "# 1 batch trains on a subset of a dataset calculates the loss and backpropagates and changes the weights\n",
        "\n",
        "n_epochs = 20\n",
        "batch_size = 256\n",
        "m_train = 2**(m_bits)\n",
        "n_batches = 128\n",
        "\n",
        "# eve and bob are trained at a ratio of 2:1\n",
        "abecycle = 1\n",
        "evecycle = 2\n",
        "epoch = 0\n",
        "\n",
        "print(\"Training for\", n_epochs, \"epochs with\", n_batches, \"batches of size\", batch_size)\n",
        "while epoch<n_epochs:\n",
        "    avg_abelosses = []\n",
        "    avg_evelosses = []\n",
        "\n",
        "    for batch in range(n_batches):\n",
        "\n",
        "      #Train alice-bob model\n",
        "      alice.trainable = True\n",
        "      bob.trainable = True\n",
        "      eve.trainable = False\n",
        "      for cycle in range(abecycle):\n",
        "          m_batch = np.random.randint(0, 2, m_bits * batch_size).reshape(batch_size, m_bits)\n",
        "          k_batch = np.random.randint(0, 2, k_bits * batch_size).reshape(batch_size, k_bits)\n",
        "          loss = abemodel.train_on_batch([m_batch, k_batch], None)\n",
        "\n",
        "          #Alice_Bob'e Error\n",
        "          abelosses.append(loss)\n",
        "          avg_abelosses.append(loss)\n",
        "          abe_avg = np.mean(avg_abelosses)\n",
        "\n",
        "      # #Bob's Error\n",
        "      # m_enc = alice.predict([m_batch, k_batch])\n",
        "      # m_dec = bob.predict([m_enc, k_batch])\n",
        "      # loss = np.mean(  np.sum( np.abs(m_batch - m_dec), axis=-1)  )\n",
        "      # avg_boblosses.append(loss)\n",
        "      # boblosses.append(loss)\n",
        "      # bob_avg = np.mean(avg_boblosses)\n",
        "\n",
        "      #Train eve model\n",
        "      alice.trainable = False\n",
        "      bob.trainable = False\n",
        "      eve.trainable = True\n",
        "      for cycle in range(evecycle):\n",
        "          m_batch = np.random.randint(0, 2, m_bits * batch_size).reshape(batch_size, m_bits)\n",
        "          k_batch = np.random.randint(0, 2, k_bits * batch_size).reshape(batch_size, k_bits)\n",
        "          loss = evemodel.train_on_batch([m_batch, k_batch], None)\n",
        "\n",
        "      #Eve's Error\n",
        "      evelosses.append(loss)\n",
        "      avg_evelosses.append(loss)\n",
        "      eve_avg = np.mean(avg_evelosses)\n",
        "      print(\"\\rEpoch {:3}: {:3}% | abe: {:2.3f} | eve: {:2.3f}\".format(epoch, 100 * batch // n_batches, abe_avg, eve_avg), end=\"\")\n",
        "\n",
        "    print()\n",
        "    epoch+=1\n",
        "print('Training finished.')"
      ],
      "metadata": {
        "colab": {
          "base_uri": "https://localhost:8080/"
        },
        "id": "8c3lqbnkGVfo",
        "outputId": "f452626d-0b9f-4ffc-a5fd-318537830ae0"
      },
      "execution_count": null,
      "outputs": [
        {
          "output_type": "stream",
          "name": "stdout",
          "text": [
            "Training for 20 epochs with 128 batches of size 256\n",
            "Epoch   0:  99% | abe: 0.711 | eve: -0.465\n",
            "Epoch   1:   4% | abe: 0.693 | eve: -0.559"
          ]
        }
      ]
    },
    {
      "cell_type": "code",
      "source": [],
      "metadata": {
        "id": "kgcqvj80G5cU"
      },
      "execution_count": null,
      "outputs": []
    },
    {
      "cell_type": "code",
      "source": [],
      "metadata": {
        "id": "4LYglVPJGViB"
      },
      "execution_count": null,
      "outputs": []
    },
    {
      "cell_type": "code",
      "source": [],
      "metadata": {
        "id": "RyDXrdEUGVks"
      },
      "execution_count": null,
      "outputs": []
    },
    {
      "cell_type": "code",
      "source": [],
      "metadata": {
        "id": "ssr0DZy-GVm9"
      },
      "execution_count": null,
      "outputs": []
    },
    {
      "cell_type": "code",
      "source": [],
      "metadata": {
        "id": "S9kW5ymtGVqX"
      },
      "execution_count": null,
      "outputs": []
    }
  ]
}